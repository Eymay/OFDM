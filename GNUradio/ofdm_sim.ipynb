{
 "cells": [
  {
   "cell_type": "code",
   "execution_count": 10,
   "id": "42de85fb",
   "metadata": {},
   "outputs": [
    {
     "name": "stdout",
     "output_type": "stream",
     "text": [
      "[0. 1. 1. ... 1. 1. 1.] 9600\n"
     ]
    }
   ],
   "source": [
    "import numpy as np\n",
    "import matplotlib.pyplot as plt\n",
    "from scipy.interpolate import interp1d\n",
    "from scipy.linalg import norm\n",
    "from scipy.fft import fft, ifft\n",
    "from scipy.stats import bernoulli\n",
    "\n",
    "# No. of Pilots: 4\n",
    "# Cyclic Extension: 25%(16)\n",
    "np.random.seed(0)\n",
    "\n",
    "# Generating and coding data\n",
    "t_data = np.random.randint(0, 2, size=(9600,)).astype(float)\n",
    "\n",
    "x = 1\n",
    "print(t_data, len(t_data))"
   ]
  },
  {
   "cell_type": "code",
   "execution_count": 11,
   "id": "b0d6deef",
   "metadata": {},
   "outputs": [
    {
     "name": "stdout",
     "output_type": "stream",
     "text": [
      "[0.9310281  0.3425061  0.12600095] [[0. 0. 0. 0. 0. 0. 0. 0. 0. 0. 0. 0. 0. 0. 0. 0. 0. 0. 0. 0. 0. 0. 0. 0.\n",
      "  0. 0. 0. 0. 0. 0. 0. 0. 0. 0. 0. 0. 0. 0. 0. 0. 0. 0. 0. 0. 0. 0. 0. 0.\n",
      "  0. 0. 0. 0. 0. 0. 0. 0. 0. 0. 0. 0. 0. 0. 0. 0. 0. 0. 0. 0. 0. 0. 0. 0.\n",
      "  0. 0. 0. 0. 0. 0. 0. 0.]\n",
      " [0. 0. 0. 0. 0. 0. 0. 0. 0. 0. 0. 0. 0. 0. 0. 0. 0. 0. 0. 0. 0. 0. 0. 0.\n",
      "  0. 0. 0. 0. 0. 0. 0. 0. 0. 0. 0. 0. 0. 0. 0. 0. 0. 0. 0. 0. 0. 0. 0. 0.\n",
      "  0. 0. 0. 0. 0. 0. 0. 0. 0. 0. 0. 0. 0. 0. 0. 0. 0. 0. 0. 0. 0. 0. 0. 0.\n",
      "  0. 0. 0. 0. 0. 0. 0. 0.]] [[0.+0.j 0.+0.j 0.+0.j ... 0.+0.j 0.+0.j 0.+0.j]\n",
      " [0.+0.j 0.+0.j 0.+0.j ... 0.+0.j 0.+0.j 0.+0.j]\n",
      " [0.+0.j 0.+0.j 0.+0.j ... 0.+0.j 0.+0.j 0.+0.j]\n",
      " ...\n",
      " [0.+0.j 0.+0.j 0.+0.j ... 0.+0.j 0.+0.j 0.+0.j]\n",
      " [0.+0.j 0.+0.j 0.+0.j ... 0.+0.j 0.+0.j 0.+0.j]\n",
      " [0.+0.j 0.+0.j 0.+0.j ... 0.+0.j 0.+0.j 0.+0.j]]\n"
     ]
    }
   ],
   "source": [
    "# Size of cycle prefix extension\n",
    "n_cpe = 16\n",
    "Nfft = 64\n",
    "n_taps = 3\n",
    "with_cp = 80\n",
    "symbol_number = 80\n",
    "\n",
    "# Channel Transfer Function\n",
    "g = np.exp(-(np.arange(n_taps)))\n",
    "\n",
    "g = g / norm(g)\n",
    "\n",
    "cons_sym_id = np.zeros((2, symbol_number))\n",
    "x_cpe = np.zeros((Nfft + n_cpe, symbol_number), dtype=np.complex128)\n",
    "\n",
    "print(g, cons_sym_id, x_cpe)"
   ]
  },
  {
   "cell_type": "code",
   "execution_count": 4,
   "id": "79061ac0",
   "metadata": {},
   "outputs": [
    {
     "ename": "TypeError",
     "evalue": "Expected an input array of integer or boolean data type",
     "output_type": "error",
     "traceback": [
      "\u001b[0;31m---------------------------------------------------------------------------\u001b[0m",
      "\u001b[0;31mTypeError\u001b[0m                                 Traceback (most recent call last)",
      "Cell \u001b[0;32mIn[4], line 12\u001b[0m\n\u001b[1;32m     10\u001b[0m \u001b[38;5;66;03m# Binary stream to symbols\u001b[39;00m\n\u001b[1;32m     11\u001b[0m cons_data \u001b[38;5;241m=\u001b[39m data\u001b[38;5;241m.\u001b[39mreshape(\u001b[38;5;28mint\u001b[39m(s1 \u001b[38;5;241m/\u001b[39m \u001b[38;5;241m2\u001b[39m), \u001b[38;5;241m2\u001b[39m)\n\u001b[0;32m---> 12\u001b[0m cons_sym_id[:, d] \u001b[38;5;241m=\u001b[39m \u001b[43mnp\u001b[49m\u001b[38;5;241;43m.\u001b[39;49m\u001b[43mpackbits\u001b[49m\u001b[43m(\u001b[49m\u001b[43mcons_data\u001b[49m\u001b[43m,\u001b[49m\u001b[43m \u001b[49m\u001b[43maxis\u001b[49m\u001b[38;5;241;43m=\u001b[39;49m\u001b[38;5;241;43m1\u001b[39;49m\u001b[43m)\u001b[49m\u001b[38;5;241m.\u001b[39mflatten()\n\u001b[1;32m     14\u001b[0m \u001b[38;5;66;03m# Symbol modulation\u001b[39;00m\n\u001b[1;32m     15\u001b[0m mod_data \u001b[38;5;241m=\u001b[39m np\u001b[38;5;241m.\u001b[39mmod(cons_sym_id[:, d], \u001b[38;5;241m4\u001b[39m)\n",
      "File \u001b[0;32m<__array_function__ internals>:5\u001b[0m, in \u001b[0;36mpackbits\u001b[0;34m(*args, **kwargs)\u001b[0m\n",
      "\u001b[0;31mTypeError\u001b[0m: Expected an input array of integer or boolean data type"
     ]
    }
   ],
   "source": [
    "for d in range(symbol_number):\n",
    "    data = t_data[x-1:x+119]\n",
    "    x += 120\n",
    "\n",
    "    k = 3\n",
    "    n = 6\n",
    "    s1 = data.size\n",
    "\n",
    "\n",
    "    # Binary stream to symbols\n",
    "    cons_data = data.reshape(int(s1 / 2), 2)\n",
    "    cons_sym_id[:, d] = np.packbits(cons_data, axis=1).flatten()\n",
    "\n",
    "    # Symbol modulation\n",
    "    mod_data = np.mod(cons_sym_id[:, d], 4)\n",
    "\n",
    "    # Pilot insertion\n",
    "    pilt = 1 + 1j\n",
    "    mod_data = np.concatenate(([pilt], mod_data[0:15], [pilt], mod_data[15:30],\n",
    "                               [pilt], mod_data[30:45], [pilt], mod_data[45:60]))\n",
    "\n",
    "    # IFFT and CP adding\n",
    "    x_ifft = ifft(mod_data)\n",
    "    x_cpe[:, d] = np.concatenate((x_ifft[-n_cpe:], x_ifft))\n",
    "\n",
    "    \n",
    "\n"
   ]
  },
  {
   "cell_type": "code",
   "execution_count": 5,
   "id": "b93b0034",
   "metadata": {},
   "outputs": [
    {
     "ename": "ValueError",
     "evalue": "all the input array dimensions for the concatenation axis must match exactly, but along dimension 0, the array at index 0 has size 77 and the array at index 2 has size 80",
     "output_type": "error",
     "traceback": [
      "\u001b[0;31m---------------------------------------------------------------------------\u001b[0m",
      "\u001b[0;31mValueError\u001b[0m                                Traceback (most recent call last)",
      "Cell \u001b[0;32mIn[5], line 4\u001b[0m\n\u001b[1;32m      1\u001b[0m barker \u001b[38;5;241m=\u001b[39m np\u001b[38;5;241m.\u001b[39marray([\u001b[38;5;241m1\u001b[39m, \u001b[38;5;241m1\u001b[39m, \u001b[38;5;241m1\u001b[39m, \u001b[38;5;241m-\u001b[39m\u001b[38;5;241m1\u001b[39m, \u001b[38;5;241m-\u001b[39m\u001b[38;5;241m1\u001b[39m, \u001b[38;5;241m1\u001b[39m, \u001b[38;5;241m-\u001b[39m\u001b[38;5;241m1\u001b[39m])\n\u001b[1;32m      2\u001b[0m seq \u001b[38;5;241m=\u001b[39m np\u001b[38;5;241m.\u001b[39mtile(barker, \u001b[38;5;28mint\u001b[39m(with_cp \u001b[38;5;241m/\u001b[39m \u001b[38;5;28mlen\u001b[39m(barker)))\n\u001b[0;32m----> 4\u001b[0m x_cpe \u001b[38;5;241m=\u001b[39m \u001b[43mnp\u001b[49m\u001b[38;5;241;43m.\u001b[39;49m\u001b[43mcolumn_stack\u001b[49m\u001b[43m(\u001b[49m\u001b[43m(\u001b[49m\u001b[43mseq\u001b[49m\u001b[43m,\u001b[49m\u001b[43m \u001b[49m\u001b[43mseq\u001b[49m\u001b[43m,\u001b[49m\u001b[43m \u001b[49m\u001b[43mx_cpe\u001b[49m\u001b[43m[\u001b[49m\u001b[43m:\u001b[49m\u001b[43m,\u001b[49m\u001b[43m \u001b[49m\u001b[38;5;241;43m0\u001b[39;49m\u001b[43m:\u001b[49m\u001b[38;5;241;43m40\u001b[39;49m\u001b[43m]\u001b[49m\u001b[43m,\u001b[49m\u001b[43m \u001b[49m\u001b[43mseq\u001b[49m\u001b[43m,\u001b[49m\u001b[43m \u001b[49m\u001b[43mx_cpe\u001b[49m\u001b[43m[\u001b[49m\u001b[43m:\u001b[49m\u001b[43m,\u001b[49m\u001b[43m \u001b[49m\u001b[38;5;241;43m40\u001b[39;49m\u001b[43m:\u001b[49m\u001b[38;5;241;43m80\u001b[39;49m\u001b[43m]\u001b[49m\u001b[43m)\u001b[49m\u001b[43m)\u001b[49m\n\u001b[1;32m      5\u001b[0m x_transmitted \u001b[38;5;241m=\u001b[39m x_cpe\u001b[38;5;241m.\u001b[39mflatten()\n",
      "File \u001b[0;32m<__array_function__ internals>:5\u001b[0m, in \u001b[0;36mcolumn_stack\u001b[0;34m(*args, **kwargs)\u001b[0m\n",
      "File \u001b[0;32m/usr/lib/python3/dist-packages/numpy/lib/shape_base.py:656\u001b[0m, in \u001b[0;36mcolumn_stack\u001b[0;34m(tup)\u001b[0m\n\u001b[1;32m    654\u001b[0m         arr \u001b[38;5;241m=\u001b[39m array(arr, copy\u001b[38;5;241m=\u001b[39m\u001b[38;5;28;01mFalse\u001b[39;00m, subok\u001b[38;5;241m=\u001b[39m\u001b[38;5;28;01mTrue\u001b[39;00m, ndmin\u001b[38;5;241m=\u001b[39m\u001b[38;5;241m2\u001b[39m)\u001b[38;5;241m.\u001b[39mT\n\u001b[1;32m    655\u001b[0m     arrays\u001b[38;5;241m.\u001b[39mappend(arr)\n\u001b[0;32m--> 656\u001b[0m \u001b[38;5;28;01mreturn\u001b[39;00m \u001b[43m_nx\u001b[49m\u001b[38;5;241;43m.\u001b[39;49m\u001b[43mconcatenate\u001b[49m\u001b[43m(\u001b[49m\u001b[43marrays\u001b[49m\u001b[43m,\u001b[49m\u001b[43m \u001b[49m\u001b[38;5;241;43m1\u001b[39;49m\u001b[43m)\u001b[49m\n",
      "File \u001b[0;32m<__array_function__ internals>:5\u001b[0m, in \u001b[0;36mconcatenate\u001b[0;34m(*args, **kwargs)\u001b[0m\n",
      "\u001b[0;31mValueError\u001b[0m: all the input array dimensions for the concatenation axis must match exactly, but along dimension 0, the array at index 0 has size 77 and the array at index 2 has size 80"
     ]
    }
   ],
   "source": [
    "barker = np.array([1, 1, 1, -1, -1, 1, -1])\n",
    "seq = np.tile(barker, int(with_cp / len(barker)))\n",
    "\n",
    "x_cpe = np.column_stack((seq, seq, x_cpe[:, 0:40], seq, x_cpe[:, 40:80]))\n",
    "x_transmitted = x_cpe.flatten()"
   ]
  }
 ],
 "metadata": {
  "kernelspec": {
   "display_name": "Python 3 (ipykernel)",
   "language": "python",
   "name": "python3"
  },
  "language_info": {
   "codemirror_mode": {
    "name": "ipython",
    "version": 3
   },
   "file_extension": ".py",
   "mimetype": "text/x-python",
   "name": "python",
   "nbconvert_exporter": "python",
   "pygments_lexer": "ipython3",
   "version": "3.10.6"
  }
 },
 "nbformat": 4,
 "nbformat_minor": 5
}
